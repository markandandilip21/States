{
 "cells": [
  {
   "cell_type": "code",
   "execution_count": 1,
   "id": "c7fdffd9",
   "metadata": {},
   "outputs": [
    {
     "name": "stdout",
     "output_type": "stream",
     "text": [
      "State 1:\n",
      "State Name: Andhra Pradesh\n",
      "Capital: Amaravati\n",
      "\n",
      "State 2:\n",
      "State Name: Tamil Nadu\n",
      "Capital: Chennai\n",
      "\n",
      "State 3:\n",
      "State Name: Karnataka\n",
      "Capital: Bengaluru\n",
      "\n",
      "State 4:\n",
      "State Name: Maharashtra\n",
      "Capital: Mumbai\n",
      "\n",
      "State 5:\n",
      "State Name: Uttar Pradesh\n",
      "Capital: Lucknow\n",
      "\n",
      "State 6:\n",
      "State Name: Gujarat\n",
      "Capital: Gandhinagar\n",
      "\n",
      "State 7:\n",
      "State Name: Rajasthan\n",
      "Capital: Jaipur\n",
      "\n"
     ]
    }
   ],
   "source": [
    "import json\n",
    "def load_state_data(filename):\n",
    "    with open(filename, 'r') as file:\n",
    "        state_data = json.load(file)\n",
    "    \n",
    "    states = []\n",
    "    for state_name, capital in state_data.items():\n",
    "        state = {\"state_name\": state_name, \"capital\": capital}\n",
    "        states.append(state)\n",
    "    \n",
    "    return states\n",
    "def main():\n",
    "    filename = 'indian_state.json'  \n",
    "    states = load_state_data(filename)\n",
    "    for idx, state in enumerate(states, start=1):\n",
    "        print(f\"State {idx}:\")\n",
    "        print(f\"State Name: {state['state_name']}\")\n",
    "        print(f\"Capital: {state['capital']}\")\n",
    "        print()\n",
    "\n",
    "if __name__ == \"__main__\":\n",
    "    main()\n"
   ]
  },
  {
   "cell_type": "code",
   "execution_count": null,
   "id": "7b0c7a37",
   "metadata": {},
   "outputs": [],
   "source": []
  }
 ],
 "metadata": {
  "kernelspec": {
   "display_name": "Python 3 (ipykernel)",
   "language": "python",
   "name": "python3"
  },
  "language_info": {
   "codemirror_mode": {
    "name": "ipython",
    "version": 3
   },
   "file_extension": ".py",
   "mimetype": "text/x-python",
   "name": "python",
   "nbconvert_exporter": "python",
   "pygments_lexer": "ipython3",
   "version": "3.10.9"
  }
 },
 "nbformat": 4,
 "nbformat_minor": 5
}
